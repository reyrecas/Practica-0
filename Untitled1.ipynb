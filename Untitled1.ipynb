{
  "nbformat": 4,
  "nbformat_minor": 0,
  "metadata": {
    "colab": {
      "provenance": []
    },
    "kernelspec": {
      "name": "python3",
      "display_name": "Python 3"
    },
    "language_info": {
      "name": "python"
    }
  },
  "cells": [
    {
      "cell_type": "code",
      "execution_count": 3,
      "metadata": {
        "colab": {
          "base_uri": "https://localhost:8080/",
          "height": 265
        },
        "id": "LTItuagJ4QV7",
        "outputId": "350e01cd-4113-45d6-efeb-f44a9ab0a13a"
      },
      "outputs": [
        {
          "output_type": "display_data",
          "data": {
            "text/plain": [
              "<Figure size 432x288 with 1 Axes>"
            ],
            "image/png": "[encoded data removed]"
          },
          "metadata": {
            "needs_background": "light"
          }
        }
      ],
      "source": [
        "from scipy.fft import fft, ifft\n",
        "import numpy as np\n",
        "x = np.array([1.0, 2.0, 1.0, -1.0, 1.5])\n",
        "y = fft(x)\n",
        "y\n",
        "yinv = ifft(y)\n",
        "yinv\n",
        "np.sum(x)\n",
        "from scipy.fft import fft, fftfreq\n",
        "import numpy as np\n",
        "# Number of sample points\n",
        "N = 600\n",
        "# sample spacing\n",
        "T = 1.0 / 800.0\n",
        "x = np.linspace(0.0, N*T, N, endpoint=False)\n",
        "y = np.sin(50.0 * 2.0*np.pi*x) + 0.5*np.sin(80.0 * 2.0*np.pi*x)\n",
        "yf = fft(y)\n",
        "xf = fftfreq(N, T)[:N//2]\n",
        "import matplotlib.pyplot as plt\n",
        "plt.plot(xf, 2.0/N * np.abs(yf[0:N//2]))\n",
        "plt.grid()\n",
        "plt.show()"
      ]
    },
    {
      "cell_type": "code",
      "source": [
        "from scipy.fft import fft, fftfreq\n",
        "import numpy as np\n",
        "# Number of sample points\n",
        "N = 600\n",
        "# sample spacing\n",
        "T = 1.0 / 800.0\n",
        "x = np.linspace(0.0, N*T, N, endpoint=False)\n",
        "y = np.sin(50.0 * 2.0*np.pi*x) + 0.5*np.sin(80.0 * 2.0*np.pi*x)\n",
        "yf = fft(y)\n",
        "from scipy.signal import blackman\n",
        "w = blackman(N)\n",
        "ywf = fft(y*w)\n",
        "xf = fftfreq(N, T)[:N//2]\n",
        "import matplotlib.pyplot as plt\n",
        "plt.semilogy(xf[1:N//2], 2.0/N * np.abs(yf[1:N//2]), '-b')\n",
        "plt.semilogy(xf[1:N//2], 2.0/N * np.abs(ywf[1:N//2]), '-r')\n",
        "plt.legend(['FFT', 'FFT w. window'])\n",
        "plt.grid()\n",
        "plt.show()"
      ],
      "metadata": {
        "colab": {
          "base_uri": "https://localhost:8080/",
          "height": 265
        },
        "id": "x-DF6F_D6R_j",
        "outputId": "0c3d140a-2a28-4921-ec86-f43dffada3da"
      },
      "execution_count": 4,
      "outputs": [
        {
          "output_type": "display_data",
          "data": {
            "text/plain": [
              "<Figure size 432x288 with 1 Axes>"
            ],
            "image/png": "[encoded data removed]"
          },
          "metadata": {
            "needs_background": "light"
          }
        }
      ]
    },
    {
      "cell_type": "code",
      "source": [
        "from scipy.fft import fftfreq\n",
        "freq = fftfreq(8, 0.125)\n",
        "freq"
      ],
      "metadata": {
        "colab": {
          "base_uri": "https://localhost:8080/"
        },
        "id": "bQdvb0wL6bXM",
        "outputId": "5c8e21f4-8344-458d-bdc4-3c59c8b1c15b"
      },
      "execution_count": 5,
      "outputs": [
        {
          "output_type": "execute_result",
          "data": {
            "text/plain": [
              "array([ 0.,  1.,  2.,  3., -4., -3., -2., -1.])"
            ]
          },
          "metadata": {},
          "execution_count": 5
        }
      ]
    },
    {
      "cell_type": "code",
      "source": [
        "from scipy.fft import fftshift\n",
        "x = np.arange(8)\n",
        "fftshift(x)"
      ],
      "metadata": {
        "colab": {
          "base_uri": "https://localhost:8080/"
        },
        "id": "0WS2W8Gv6eIo",
        "outputId": "2c5bf78b-8231-461b-9d7e-319f67c87ff9"
      },
      "execution_count": 6,
      "outputs": [
        {
          "output_type": "execute_result",
          "data": {
            "text/plain": [
              "array([4, 5, 6, 7, 0, 1, 2, 3])"
            ]
          },
          "metadata": {},
          "execution_count": 6
        }
      ]
    },
    {
      "cell_type": "code",
      "source": [
        "from scipy.fft import fft, fftfreq, fftshift\n",
        "import numpy as np\n",
        "# number of signal points\n",
        "N = 400\n",
        "# sample spacing\n",
        "T = 1.0 / 800.0\n",
        "x = np.linspace(0.0, N*T, N, endpoint=False)\n",
        "y = np.exp(50.0 * 1.j * 2.0*np.pi*x) + 0.5*np.exp(-80.0 * 1.j * 2.0*np.pi*x)\n",
        "yf = fft(y)\n",
        "xf = fftfreq(N, T)\n",
        "xf = fftshift(xf)\n",
        "yplot = fftshift(yf)\n",
        "import matplotlib.pyplot as plt\n",
        "plt.plot(xf, 1.0/N * np.abs(yplot))\n",
        "plt.grid()\n",
        "plt.show()"
      ],
      "metadata": {
        "colab": {
          "base_uri": "https://localhost:8080/",
          "height": 265
        },
        "id": "pZ6iIQYg6n2Y",
        "outputId": "53cec747-2843-49e6-8fff-4b47560ef480"
      },
      "execution_count": 7,
      "outputs": [
        {
          "output_type": "display_data",
          "data": {
            "text/plain": [
              "<Figure size 432x288 with 1 Axes>"
            ],
            "image/png": "[encoded data removed]"
          },
          "metadata": {
            "needs_background": "light"
          }
        }
      ]
    },
    {
      "cell_type": "code",
      "source": [
        "from scipy.fft import fft, rfft, irfft\n",
        "x = np.array([1.0, 2.0, 1.0, -1.0, 1.5, 1.0])\n",
        "fft(x)"
      ],
      "metadata": {
        "colab": {
          "base_uri": "https://localhost:8080/"
        },
        "id": "8ZUtIc1f6vhJ",
        "outputId": "1cb1474f-8b7f-49d1-c233-53b79bd8c08c"
      },
      "execution_count": 8,
      "outputs": [
        {
          "output_type": "execute_result",
          "data": {
            "text/plain": [
              "array([ 5.5 -0.j        ,  2.25-0.4330127j , -2.75-1.29903811j,\n",
              "        1.5 -0.j        , -2.75+1.29903811j,  2.25+0.4330127j ])"
            ]
          },
          "metadata": {},
          "execution_count": 8
        }
      ]
    },
    {
      "cell_type": "code",
      "source": [
        "yr = rfft(x)\n",
        "yr"
      ],
      "metadata": {
        "colab": {
          "base_uri": "https://localhost:8080/"
        },
        "id": "Xus4htsg6zea",
        "outputId": "90a6ffe5-2e91-4b40-a2e4-8bc7bb7b2df2"
      },
      "execution_count": 9,
      "outputs": [
        {
          "output_type": "execute_result",
          "data": {
            "text/plain": [
              "array([ 5.5 +0.j        ,  2.25-0.4330127j , -2.75-1.29903811j,\n",
              "        1.5 +0.j        ])"
            ]
          },
          "metadata": {},
          "execution_count": 9
        }
      ]
    },
    {
      "cell_type": "code",
      "source": [
        "irfft(yr)"
      ],
      "metadata": {
        "colab": {
          "base_uri": "https://localhost:8080/"
        },
        "id": "wrFvEWsZ63ER",
        "outputId": "f8c4bca7-aca5-483d-8c79-a4a3eaa7f07a"
      },
      "execution_count": 10,
      "outputs": [
        {
          "output_type": "execute_result",
          "data": {
            "text/plain": [
              "array([ 1. ,  2. ,  1. , -1. ,  1.5,  1. ])"
            ]
          },
          "metadata": {},
          "execution_count": 10
        }
      ]
    },
    {
      "cell_type": "code",
      "source": [
        "x = np.array([1.0, 2.0, 1.0, -1.0, 1.5])\n",
        "fft(x)"
      ],
      "metadata": {
        "colab": {
          "base_uri": "https://localhost:8080/"
        },
        "id": "JGJ7gHl0675P",
        "outputId": "10c396e4-454c-4c9e-fe70-9347a8962bbf"
      },
      "execution_count": 11,
      "outputs": [
        {
          "output_type": "execute_result",
          "data": {
            "text/plain": [
              "array([ 4.5       -0.j        ,  2.08155948-1.65109876j,\n",
              "       -1.83155948+1.60822041j, -1.83155948-1.60822041j,\n",
              "        2.08155948+1.65109876j])"
            ]
          },
          "metadata": {},
          "execution_count": 11
        }
      ]
    },
    {
      "cell_type": "code",
      "source": [
        "yr = rfft(x)\n",
        "yr"
      ],
      "metadata": {
        "colab": {
          "base_uri": "https://localhost:8080/"
        },
        "id": "gpGkKoeV6_aX",
        "outputId": "e26e57d4-1fc5-4e78-bce2-489eee5c80e1"
      },
      "execution_count": 12,
      "outputs": [
        {
          "output_type": "execute_result",
          "data": {
            "text/plain": [
              "array([ 4.5       +0.j        ,  2.08155948-1.65109876j,\n",
              "       -1.83155948+1.60822041j])"
            ]
          },
          "metadata": {},
          "execution_count": 12
        }
      ]
    },
    {
      "cell_type": "code",
      "source": [
        "irfft(yr)"
      ],
      "metadata": {
        "colab": {
          "base_uri": "https://localhost:8080/"
        },
        "id": "5h1WbHYo7FSS",
        "outputId": "73bedc05-6568-4abb-9546-7f6e5e9ddf5f"
      },
      "execution_count": 13,
      "outputs": [
        {
          "output_type": "execute_result",
          "data": {
            "text/plain": [
              "array([ 1.70788987,  2.40843925, -0.37366961,  0.75734049])"
            ]
          },
          "metadata": {},
          "execution_count": 13
        }
      ]
    },
    {
      "cell_type": "code",
      "source": [
        "irfft(yr, n=len(x))"
      ],
      "metadata": {
        "colab": {
          "base_uri": "https://localhost:8080/"
        },
        "id": "4pvrDHAc7IwX",
        "outputId": "214574ec-c260-4632-dab4-89628553d9c4"
      },
      "execution_count": 14,
      "outputs": [
        {
          "output_type": "execute_result",
          "data": {
            "text/plain": [
              "array([ 1. ,  2. ,  1. , -1. ,  1.5])"
            ]
          },
          "metadata": {},
          "execution_count": 14
        }
      ]
    },
    {
      "cell_type": "code",
      "source": [
        "from scipy.fft import ifftn\n",
        "import matplotlib.pyplot as plt\n",
        "import matplotlib.cm as cm\n",
        "import numpy as np\n",
        "N = 30\n",
        "f, ((ax1, ax2, ax3), (ax4, ax5, ax6)) = plt.subplots(2, 3, sharex='col', sharey='row')\n",
        "xf = np.zeros((N,N))\n",
        "xf[0, 5] = 1\n",
        "xf[0, N-5] = 1\n",
        "Z = ifftn(xf)\n",
        "ax1.imshow(xf, cmap=cm.Reds)\n",
        "ax4.imshow(np.real(Z), cmap=cm.gray)\n",
        "xf = np.zeros((N, N))\n",
        "xf[5, 0] = 1\n",
        "xf[N-5, 0] = 1\n",
        "Z = ifftn(xf)\n",
        "ax2.imshow(xf, cmap=cm.Reds)\n",
        "ax5.imshow(np.real(Z), cmap=cm.gray)\n",
        "xf = np.zeros((N, N))\n",
        "xf[5, 10] = 1\n",
        "xf[N-5, N-10] = 1\n",
        "Z = ifftn(xf)\n",
        "ax3.imshow(xf, cmap=cm.Reds)\n",
        "ax6.imshow(np.real(Z), cmap=cm.gray)\n",
        "plt.show()"
      ],
      "metadata": {
        "colab": {
          "base_uri": "https://localhost:8080/",
          "height": 267
        },
        "id": "YTiecY0c7QR6",
        "outputId": "1c130152-98d6-4c63-cf50-a2daf9aad7ce"
      },
      "execution_count": 15,
      "outputs": [
        {
          "output_type": "display_data",
          "data": {
            "text/plain": [
              "<Figure size 432x288 with 6 Axes>"
            ],
            "image/png": "[encoded data removed]"
          },
          "metadata": {
            "needs_background": "light"
          }
        }
      ]
    },
    {
      "cell_type": "code",
      "source": [
        "from scipy.fft import dct, idct\n",
        "x = np.array([1.0, 2.0, 1.0, -1.0, 1.5])\n"
      ],
      "metadata": {
        "id": "cLElx2Pu7wFD"
      },
      "execution_count": 16,
      "outputs": []
    },
    {
      "cell_type": "code",
      "source": [
        "dct(dct(x, type=2, norm='ortho'), type=3, norm='ortho')"
      ],
      "metadata": {
        "colab": {
          "base_uri": "https://localhost:8080/"
        },
        "id": "Ulzy6Nel71Yh",
        "outputId": "6e4105ed-65f2-48a4-861e-9b342630ae23"
      },
      "execution_count": 17,
      "outputs": [
        {
          "output_type": "execute_result",
          "data": {
            "text/plain": [
              "array([ 1. ,  2. ,  1. , -1. ,  1.5])"
            ]
          },
          "metadata": {},
          "execution_count": 17
        }
      ]
    },
    {
      "cell_type": "code",
      "source": [
        "dct(dct(x, type=2), type=3)"
      ],
      "metadata": {
        "colab": {
          "base_uri": "https://localhost:8080/"
        },
        "id": "4NFAPFlg8C2z",
        "outputId": "c983ac44-7f02-4d6c-c09d-dd44a671c6bd"
      },
      "execution_count": 18,
      "outputs": [
        {
          "output_type": "execute_result",
          "data": {
            "text/plain": [
              "array([ 10.,  20.,  10., -10.,  15.])"
            ]
          },
          "metadata": {},
          "execution_count": 18
        }
      ]
    },
    {
      "cell_type": "code",
      "source": [
        "# Normalized inverse: no scaling factor\n",
        "idct(dct(x, type=2), type=2)"
      ],
      "metadata": {
        "colab": {
          "base_uri": "https://localhost:8080/"
        },
        "id": "o4Y3dJua8Gdv",
        "outputId": "5a8f5153-2123-4c43-df3b-f7787b5892fe"
      },
      "execution_count": 19,
      "outputs": [
        {
          "output_type": "execute_result",
          "data": {
            "text/plain": [
              "array([ 1. ,  2. ,  1. , -1. ,  1.5])"
            ]
          },
          "metadata": {},
          "execution_count": 19
        }
      ]
    },
    {
      "cell_type": "code",
      "source": [
        "dct(dct(x, type=1, norm='ortho'), type=1, norm='ortho')"
      ],
      "metadata": {
        "colab": {
          "base_uri": "https://localhost:8080/"
        },
        "id": "u6VMAUyh8LgN",
        "outputId": "cf76448c-2fb3-44e1-ac2d-aef6e39bd5b8"
      },
      "execution_count": 20,
      "outputs": [
        {
          "output_type": "execute_result",
          "data": {
            "text/plain": [
              "array([ 1. ,  2. ,  1. , -1. ,  1.5])"
            ]
          },
          "metadata": {},
          "execution_count": 20
        }
      ]
    },
    {
      "cell_type": "code",
      "source": [
        "# Unnormalized round-trip via DCT-I: scaling factor 2*(N-1) = 8\n",
        "dct(dct(x, type=1), type=1)"
      ],
      "metadata": {
        "colab": {
          "base_uri": "https://localhost:8080/"
        },
        "id": "PFNsMSbH8PIm",
        "outputId": "4ae2ee79-ac91-4828-83a1-321ffba0e448"
      },
      "execution_count": 22,
      "outputs": [
        {
          "output_type": "execute_result",
          "data": {
            "text/plain": [
              "array([ 8., 16.,  8., -8., 12.])"
            ]
          },
          "metadata": {},
          "execution_count": 22
        }
      ]
    },
    {
      "cell_type": "code",
      "source": [
        "# Normalized inverse: no scaling factor\n",
        "idct(dct(x, type=1), type=1)"
      ],
      "metadata": {
        "colab": {
          "base_uri": "https://localhost:8080/"
        },
        "id": "Xv2S3IPS8UfR",
        "outputId": "d9bdaa7e-895a-46c4-92ef-60455e1666f3"
      },
      "execution_count": 23,
      "outputs": [
        {
          "output_type": "execute_result",
          "data": {
            "text/plain": [
              "array([ 1. ,  2. ,  1. , -1. ,  1.5])"
            ]
          },
          "metadata": {},
          "execution_count": 23
        }
      ]
    },
    {
      "cell_type": "code",
      "source": [
        "dct(dct(x, type=4, norm='ortho'), type=4, norm='ortho')"
      ],
      "metadata": {
        "colab": {
          "base_uri": "https://localhost:8080/"
        },
        "id": "uRC5Fhyh8YIv",
        "outputId": "730c1cbe-9b11-40a0-8b67-86a8418315de"
      },
      "execution_count": 24,
      "outputs": [
        {
          "output_type": "execute_result",
          "data": {
            "text/plain": [
              "array([ 1. ,  2. ,  1. , -1. ,  1.5])"
            ]
          },
          "metadata": {},
          "execution_count": 24
        }
      ]
    },
    {
      "cell_type": "code",
      "source": [
        "# Unnormalized round-trip via DCT-IV: scaling factor 2*N = 10\n",
        "dct(dct(x, type=4), type=4)"
      ],
      "metadata": {
        "colab": {
          "base_uri": "https://localhost:8080/"
        },
        "id": "WR2gOfkV8cK5",
        "outputId": "41065039-dbc6-4e4b-f661-ac9855fab573"
      },
      "execution_count": 25,
      "outputs": [
        {
          "output_type": "execute_result",
          "data": {
            "text/plain": [
              "array([ 10.,  20.,  10., -10.,  15.])"
            ]
          },
          "metadata": {},
          "execution_count": 25
        }
      ]
    },
    {
      "cell_type": "code",
      "source": [
        "# Normalized inverse: no scaling factor\n",
        "idct(dct(x, type=4), type=4)"
      ],
      "metadata": {
        "colab": {
          "base_uri": "https://localhost:8080/"
        },
        "id": "9rK1ol5r8gF2",
        "outputId": "16efaa29-ac25-4fc7-c810-ab4b2f687293"
      },
      "execution_count": 26,
      "outputs": [
        {
          "output_type": "execute_result",
          "data": {
            "text/plain": [
              "array([ 1. ,  2. ,  1. , -1. ,  1.5])"
            ]
          },
          "metadata": {},
          "execution_count": 26
        }
      ]
    },
    {
      "cell_type": "code",
      "source": [
        "from scipy.fft import dct, idct\n",
        "import matplotlib.pyplot as plt\n",
        "N = 100\n",
        "t = np.linspace(0,20,N, endpoint=False)\n",
        "x = np.exp(-t/3)*np.cos(2*t)\n",
        "y = dct(x, norm='ortho')\n",
        "window = np.zeros(N)\n",
        "window[:20] = 1\n",
        "yr = idct(y*window, norm='ortho')\n",
        "sum(abs(x-yr)**2) / sum(abs(x)**2)\n",
        "plt.plot(t, x, '-bx')\n",
        "plt.plot(t, yr, 'ro')\n",
        "window = np.zeros(N)\n",
        "window[:15] = 1\n",
        "yr = idct(y*window, norm='ortho')\n",
        "sum(abs(x-yr)**2) / sum(abs(x)**2)\n",
        "plt.plot(t, yr, 'g+')\n",
        "plt.legend(['x', '$x_{20}$', '$x_{15}$'])\n",
        "plt.grid()\n",
        "plt.show()"
      ],
      "metadata": {
        "colab": {
          "base_uri": "https://localhost:8080/",
          "height": 265
        },
        "id": "jC6fM3mc8lCA",
        "outputId": "c14baa90-95a4-4ae4-c664-52d7e21fc80c"
      },
      "execution_count": 33,
      "outputs": [
        {
          "output_type": "display_data",
          "data": {
            "text/plain": [
              "<Figure size 432x288 with 1 Axes>"
            ],
            "image/png": "[encoded data removed]"
          },
          "metadata": {
            "needs_background": "light"
          }
        }
      ]
    },
    {
      "cell_type": "code",
      "source": [],
      "metadata": {
        "id": "WacGd88N8pBX"
      },
      "execution_count": null,
      "outputs": []
    },
    {
      "cell_type": "code",
      "source": [],
      "metadata": {
        "id": "8z2I8t-E8sz0"
      },
      "execution_count": null,
      "outputs": []
    },
    {
      "cell_type": "code",
      "source": [
        "from scipy.fft import dst, idst\n",
        "x = np.array([1.0, 2.0, 1.0, -1.0, 1.5])"
      ],
      "metadata": {
        "id": "6S01zqgB81lo"
      },
      "execution_count": 31,
      "outputs": []
    }
  ]
}